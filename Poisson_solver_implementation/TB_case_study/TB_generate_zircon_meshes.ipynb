{
 "cells": [
  {
   "cell_type": "code",
   "execution_count": 1,
   "id": "ef6dfd37-d45e-455e-968c-a906790a737b",
   "metadata": {},
   "outputs": [
    {
     "name": "stderr",
     "output_type": "stream",
     "text": [
      "[c-a0041532.staff.ad.curtin.edu.au:14591] shmem: mmap: an error occurred while determining whether or not /var/folders/0j/bnxlsh897sl6b1rv06fnt5r80000gp/T//ompi.c-a0041532.502/jf.0/1791033344/sm_segment.c-a0041532.502.6ac10000.0 could be created.\n"
     ]
    }
   ],
   "source": [
    "import numpy as np\n",
    "import gmsh\n",
    "from enum import Enum, auto\n",
    "from mpi4py import MPI\n",
    "import matplotlib.pyplot as plt\n",
    "import os "
   ]
  },
  {
   "cell_type": "code",
   "execution_count": 2,
   "id": "5d3ea73e-6432-4890-bb14-100596611c5e",
   "metadata": {},
   "outputs": [],
   "source": [
    "# Initialize the MPI environment\n",
    "comm = MPI.COMM_WORLD  # Get the global communicator\n",
    "rank = comm.Get_rank()  # Get the rank of the current process\n",
    "size = comm.Get_size()  # Get the total number of processes"
   ]
  },
  {
   "cell_type": "code",
   "execution_count": 3,
   "id": "81156697-6324-4ae3-8936-298985b7ea33",
   "metadata": {},
   "outputs": [],
   "source": [
    "# Create a dynamic Enum class based on the number of points\n",
    "def create_boundary_enum(num_points):\n",
    "    \"\"\"Dynamically create a boundary Enum class.\"\"\"\n",
    "    enum_dict = {f\"Boundary{i}\": auto() for i in range(num_points)}\n",
    "    return Enum(\"Boundaries\", enum_dict)"
   ]
  },
  {
   "cell_type": "code",
   "execution_count": 4,
   "id": "d583d3ae-99a4-4a63-a3b1-b3316d231924",
   "metadata": {},
   "outputs": [],
   "source": [
    "def create_2D_zircon_mesh(points, outputPath='.', csize = 0.01, mesh_name = 'zircon_mesh'):\n",
    "\n",
    "    if rank == 0:\n",
    "        points_array = np.array(points)\n",
    "    \n",
    "        # Generate the Enum class\n",
    "        boundaries_2D = create_boundary_enum(len(points))\n",
    "        \n",
    "        gmsh.initialize()\n",
    "        gmsh.model.add(mesh_name)\n",
    "        \n",
    "        \n",
    "        # Create points\n",
    "        point_ids = [gmsh.model.geo.addPoint(x, y, z, meshSize=csize) for x, y, z in points]\n",
    "        \n",
    "        # Create lines by connecting consecutive points and closing the loop\n",
    "        line_ids = [gmsh.model.geo.addLine(point_ids[i], point_ids[(i + 1) % len(point_ids)]) for i in range(len(point_ids))]\n",
    "        \n",
    "        cl = gmsh.model.geo.addCurveLoop(line_ids)\n",
    "        surface = gmsh.model.geo.addPlaneSurface([cl])\n",
    "        \n",
    "        gmsh.model.geo.synchronize()\n",
    "        \n",
    "        # Adding physical groups for lines\n",
    "        for i, line_id in enumerate(line_ids):\n",
    "            boundary_tag = getattr(boundaries_2D, f\"Boundary{i}\")\n",
    "            gmsh.model.addPhysicalGroup(1, [line_id], tag=boundary_tag.value, name=boundary_tag.name)\n",
    "        \n",
    "        # Add physical group for the surface\n",
    "        gmsh.model.addPhysicalGroup(2, [surface], 99999)\n",
    "        gmsh.model.setPhysicalName(2, 99999, \"Elements\")\n",
    "        \n",
    "        gmsh.model.mesh.generate(2)\n",
    "        gmsh.write(f'{outputPath}/{mesh_name}.msh')\n",
    "        \n",
    "        gmsh.finalize()\n",
    "\n",
    "        print(f'mesh located can be found: {outputPath}/{mesh_name}.msh', flush=True)"
   ]
  },
  {
   "cell_type": "code",
   "execution_count": 11,
   "id": "313a6883-75aa-4333-b688-495e6461a710",
   "metadata": {},
   "outputs": [],
   "source": [
    "ref_length = 100 ### in microns\n",
    "\n",
    "\n",
    "mesh_output = './meshes/'\n",
    "\n",
    "fig_output = './figs/'\n",
    "\n",
    "os.makedirs(mesh_output, exist_ok=True)\n",
    "os.makedirs(fig_output, exist_ok=True)\n"
   ]
  },
  {
   "cell_type": "code",
   "execution_count": 6,
   "id": "d463cdea-b70c-4b09-b52d-042aa8cc5f25",
   "metadata": {},
   "outputs": [
    {
     "name": "stdout",
     "output_type": "stream",
     "text": [
      "Info    : Meshing 1D...\n",
      "Info    : [  0%] Meshing curve 1 (Line)\n",
      "Info    : [ 20%] Meshing curve 2 (Line)\n",
      "Info    : [ 30%] Meshing curve 3 (Line)\n",
      "Info    : [ 40%] Meshing curve 4 (Line)\n",
      "Info    : [ 60%] Meshing curve 5 (Line)\n",
      "Info    : [ 70%] Meshing curve 6 (Line)\n",
      "Info    : [ 80%] Meshing curve 7 (Line)\n",
      "Info    : [ 90%] Meshing curve 8 (Line)\n",
      "Info    : Done meshing 1D (Wall 0.000305458s, CPU 0.000464s)\n",
      "Info    : Meshing 2D...\n",
      "Info    : Meshing surface 1 (Plane, Frontal-Delaunay)\n",
      "Info    : Done meshing 2D (Wall 0.0738122s, CPU 0.071858s)\n",
      "Info    : 5398 nodes 10802 elements\n",
      "Info    : Writing './meshes//zircon_mesh_70x70.msh'...\n",
      "Info    : Done writing './meshes//zircon_mesh_70x70.msh'\n",
      "mesh located can be found: ./meshes//zircon_mesh_70x70.msh\n"
     ]
    }
   ],
   "source": [
    "### 70 x 70 micron zircon\n",
    "\n",
    "zircon1 = [(-35, 20, 0), (-20, 35, 0), (20, 35, 0), (35, 20, 0), \n",
    "           (35, -20, 0), (20, -35, 0), (-20, -35, 0), (-35, -20, 0)]\n",
    "\n",
    "zircon_70_70 = np.array(zircon1)\n",
    "\n",
    "create_2D_zircon_mesh(zircon_70_70/ref_length, outputPath=mesh_output, csize = 0.01, mesh_name = 'zircon_mesh_70x70')"
   ]
  },
  {
   "cell_type": "code",
   "execution_count": 7,
   "id": "e2f612cb-bb35-4261-a8dc-e6028678b042",
   "metadata": {},
   "outputs": [
    {
     "name": "stdout",
     "output_type": "stream",
     "text": [
      "Info    : Meshing 1D...\n",
      "Info    : [  0%] Meshing curve 1 (Line)\n",
      "Info    : [ 20%] Meshing curve 2 (Line)\n",
      "Info    : [ 30%] Meshing curve 3 (Line)\n",
      "Info    : [ 40%] Meshing curve 4 (Line)\n",
      "Info    : [ 60%] Meshing curve 5 (Line)\n",
      "Info    : [ 70%] Meshing curve 6 (Line)\n",
      "Info    : [ 80%] Meshing curve 7 (Line)\n",
      "Info    : [ 90%] Meshing curve 8 (Line)\n",
      "Info    : Done meshing 1D (Wall 0.000349583s, CPU 0.000472s)\n",
      "Info    : Meshing 2D...\n",
      "Info    : Meshing surface 1 (Plane, Frontal-Delaunay)\n",
      "Info    : Done meshing 2D (Wall 0.156051s, CPU 0.152177s)\n",
      "Info    : 10610 nodes 21226 elements\n",
      "Info    : Writing './meshes//zircon_mesh_80x120.msh'...\n",
      "Info    : Done writing './meshes//zircon_mesh_80x120.msh'\n",
      "mesh located can be found: ./meshes//zircon_mesh_80x120.msh\n"
     ]
    }
   ],
   "source": [
    "### 80x120 micron zircon\n",
    "\n",
    "zircon2 = [(-40, 35, 0), (-25, 60, 0), (25, 60, 0), (40, 35, 0), \n",
    "           (40, -35, 0), (25, -60, 0), (-25, -60, 0), (-40, -35, 0)]\n",
    "\n",
    "zircon_80_120 = np.array(zircon2)\n",
    "\n",
    "create_2D_zircon_mesh(zircon_80_120/ref_length, outputPath=mesh_output, csize = 0.01, mesh_name = 'zircon_mesh_80x120')"
   ]
  },
  {
   "cell_type": "code",
   "execution_count": 30,
   "id": "2c381cb7-0f96-4f42-bda7-0924923fe8d7",
   "metadata": {},
   "outputs": [
    {
     "name": "stdout",
     "output_type": "stream",
     "text": [
      "Info    : Meshing 1D...\n",
      "Info    : [  0%] Meshing curve 1 (Line)\n",
      "Info    : [ 20%] Meshing curve 2 (Line)\n",
      "Info    : [ 30%] Meshing curve 3 (Line)\n",
      "Info    : [ 40%] Meshing curve 4 (Line)\n",
      "Info    : [ 60%] Meshing curve 5 (Line)\n",
      "Info    : [ 70%] Meshing curve 6 (Line)\n",
      "Info    : [ 80%] Meshing curve 7 (Line)\n",
      "Info    : [ 90%] Meshing curve 8 (Line)\n",
      "Info    : Done meshing 1D (Wall 0.00102063s, CPU 0.001181s)\n",
      "Info    : Meshing 2D...\n",
      "Info    : Meshing surface 1 (Plane, Frontal-Delaunay)\n",
      "Info    : Done meshing 2D (Wall 0.240864s, CPU 0.234619s)\n",
      "Info    : 15599 nodes 31204 elements\n",
      "Info    : Writing './meshes//zircon_mesh_90x160.msh'...\n",
      "Info    : Done writing './meshes//zircon_mesh_90x160.msh'\n",
      "mesh located can be found: ./meshes//zircon_mesh_90x160.msh\n"
     ]
    }
   ],
   "source": [
    "### 90x160 micron zircon\n",
    "\n",
    "zircon3 = [(-45, 40, 0), (-30, 80, 0), (30, 80, 0), (45, 40, 0), \n",
    "           (45, -40, 0), (30, -80, 0), (-30, -80, 0), (-45, -40, 0)]\n",
    "\n",
    "zircon_90_160 = np.array(zircon3)\n",
    "\n",
    "create_2D_zircon_mesh(zircon_90_160/ref_length, outputPath=mesh_output, csize = 0.01, mesh_name = 'zircon_mesh_90x160')"
   ]
  },
  {
   "cell_type": "code",
   "execution_count": 31,
   "id": "bfb47e31-accf-456a-b26d-f42809bfb5ce",
   "metadata": {},
   "outputs": [
    {
     "name": "stdout",
     "output_type": "stream",
     "text": [
      "Info    : Meshing 1D...\n",
      "Info    : [  0%] Meshing curve 1 (Line)\n",
      "Info    : [ 20%] Meshing curve 2 (Line)\n",
      "Info    : [ 30%] Meshing curve 3 (Line)\n",
      "Info    : [ 40%] Meshing curve 4 (Line)\n",
      "Info    : [ 60%] Meshing curve 5 (Line)\n",
      "Info    : [ 70%] Meshing curve 6 (Line)\n",
      "Info    : [ 80%] Meshing curve 7 (Line)\n",
      "Info    : [ 90%] Meshing curve 8 (Line)\n",
      "Info    : Done meshing 1D (Wall 0.00134267s, CPU 0.001657s)\n",
      "Info    : Meshing 2D...\n",
      "Info    : Meshing surface 1 (Plane, Frontal-Delaunay)\n",
      "Info    : Done meshing 2D (Wall 0.344692s, CPU 0.337077s)\n",
      "Info    : 21965 nodes 43936 elements\n",
      "Info    : Writing './meshes//zircon_mesh_100x200.msh'...\n",
      "Info    : Done writing './meshes//zircon_mesh_100x200.msh'\n",
      "mesh located can be found: ./meshes//zircon_mesh_100x200.msh\n"
     ]
    }
   ],
   "source": [
    "### 100x200 micron zircon\n",
    "\n",
    "zircon4 = [(-50, 50, 0), (-35, 100, 0), (35, 100, 0), (50, 50, 0), \n",
    "           (50, -50, 0), (35, -100, 0), (-35, -100, 0), (-50, -50, 0)]\n",
    "\n",
    "zircon_100_200 = np.array(zircon4)\n",
    "\n",
    "create_2D_zircon_mesh(zircon_100_200/ref_length, outputPath=mesh_output, csize = 0.01, mesh_name = 'zircon_mesh_100x200')"
   ]
  },
  {
   "cell_type": "code",
   "execution_count": 32,
   "id": "ae5ef7b6-d4d2-450b-b7e6-0be5b900e534",
   "metadata": {},
   "outputs": [
    {
     "data": {
      "image/png": "[encoded data removed]",
      "text/plain": [
       "<Figure size 400x800 with 1 Axes>"
      ]
     },
     "metadata": {},
     "output_type": "display_data"
    }
   ],
   "source": [
    "plt.figure( figsize=(4, 8) )\n",
    "plt.plot(zircon_70_70[:,0], zircon_70_70[:,1], label='zircon 1')\n",
    "plt.plot(zircon_80_120[:,0], zircon_80_120[:,1], label='zircon 2')\n",
    "plt.plot(zircon_90_160[:,0], zircon_90_160[:,1], label='zircon 3')\n",
    "plt.plot(zircon_100_200[:,0], zircon_100_200[:,1], label='zircon 4')\n",
    "\n",
    "plt.axis('scaled')\n",
    "plt.grid(alpha=0.4, ls=':')\n",
    "\n",
    "plt.xlabel(r'x [$\\mu m$]')\n",
    "plt.ylabel(r'y [$\\mu m$]')\n",
    "\n",
    "plt.savefig(f'{fig_output}mesh_geom.pdf')"
   ]
  },
  {
   "cell_type": "code",
   "execution_count": null,
   "id": "944935af-2959-4775-93f3-17c34abb09f9",
   "metadata": {},
   "outputs": [],
   "source": []
  }
 ],
 "metadata": {
  "kernelspec": {
   "display_name": "Python 3 (ipykernel)",
   "language": "python",
   "name": "python3"
  },
  "language_info": {
   "codemirror_mode": {
    "name": "ipython",
    "version": 3
   },
   "file_extension": ".py",
   "mimetype": "text/x-python",
   "name": "python",
   "nbconvert_exporter": "python",
   "pygments_lexer": "ipython3",
   "version": "3.10.14"
  }
 },
 "nbformat": 4,
 "nbformat_minor": 5
}
