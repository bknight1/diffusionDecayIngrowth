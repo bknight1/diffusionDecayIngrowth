{
 "cells": [
  {
   "cell_type": "code",
   "execution_count": null,
   "id": "5be76a27-54ae-463e-acb6-63f8d51fbb6d",
   "metadata": {},
   "outputs": [],
   "source": [
    "import pandas as pd\n",
    "import matplotlib.pyplot as plt\n",
    "import numpy as np\n",
    "\n",
    "import os\n",
    "\n",
    "import glob\n",
    "\n",
    "from matplotlib import rc\n",
    "\n",
    "# Set the global font to be DejaVu Sans, size 10 (or any other sans-serif font of your choice!)\n",
    "# rc('font',**{'family':'sans-serif','sans-serif':['Helvetica'],'size':10})\n",
    "\n",
    "# Set the font used for MathJax\n",
    "rc('mathtext',**{'default':'regular'})\n",
    "rc('figure',**{'figsize':(8,6)})\n",
    "\n",
    "import matplotlib\n",
    "\n",
    "matplotlib.rcParams['pdf.fonttype'] = 42\n",
    "matplotlib.rcParams['font.family'] = 'Arial'\n",
    "\n",
    "# rc('text',**{'usetex':True})\n",
    "\n",
    "# plt.rcParams['text.usetex'] = True # TeX rendering"
   ]
  },
  {
   "cell_type": "markdown",
   "id": "544d9fd7-e987-4f19-b48c-16d9183ae24b",
   "metadata": {},
   "source": [
    "### Get convergence of diffusion-only solver in a box using simplexes"
   ]
  },
  {
   "cell_type": "code",
   "execution_count": null,
   "id": "f273066d-a1ac-42e0-9965-4b7f236e1cf1",
   "metadata": {},
   "outputs": [],
   "source": [
    "def run_diff_convergence_test(outputPath, degrees, csizes, u_cont):\n",
    "    ### all degrees specified\n",
    "    for degree in degrees:\n",
    "        for cont in u_cont:\n",
    "            output_file = f'Diffusion_conv_test_HP_unstructuredSimplex_deg={degree}_continuous={cont}.txt'\n",
    "            # if not os.path.exists(f'{outputPath}{output_file}'):\n",
    "            for csize in csizes:\n",
    "                    os.system(f'python3 Ex_Diffusion-convergence.py -uw_Tdegree {degree} \\\n",
    "                                                                   -uw_continuous {cont} \\\n",
    "                                                                   -uw_csize {csize} \\\n",
    "                                                                   -uw_outputPath {outputPath} \\\n",
    "                                                                   -uw_outputFile {output_file}')\n",
    "\n",
    "\n",
    "\n",
    "    "
   ]
  },
  {
   "cell_type": "markdown",
   "id": "b8a7b8df",
   "metadata": {},
   "source": [
    "##### Plots and profiles from figure 3 are generated in the output file"
   ]
  },
  {
   "cell_type": "code",
   "execution_count": null,
   "id": "7b430ed4-3b43-4b3f-85b3-83cdd6b8c724",
   "metadata": {
    "scrolled": true
   },
   "outputs": [],
   "source": [
    "csizes = [0.1, 0.05, 0.025, 0.01, 0.005]\n",
    "degrees = [1, 2, 3]\n",
    "\n",
    "outputPath = f'./output/Diffusion_convergence_test/'\n",
    "\n",
    "u_continuous = [True]\n",
    "\n",
    "run_diff_convergence_test(outputPath, degrees, csizes, u_continuous)"
   ]
  },
  {
   "cell_type": "code",
   "execution_count": null,
   "id": "fc662635-e34c-41c0-8a7d-4cb444ee496e",
   "metadata": {},
   "outputs": [],
   "source": [
    "def linear_line_from_points(x,y,slope):\n",
    "    xmax = np.max(x)\n",
    "    xmin = np.min(x)\n",
    "    xline = np.linspace(xmin,xmax,101)\n",
    "\n",
    "    x0 = np.mean(x)\n",
    "    y0 = np.mean(y)\n",
    "    yline = y0 + (xline - x0)*slope\n",
    "\n",
    "    return xline,yline\n",
    "\n",
    "sty0    = 'k:'\n",
    "sty1    = 'k:'\n",
    "sty2    = 'k-.'\n",
    "sty3    = 'k--'\n",
    "lw      = 0.8\n",
    "\n",
    "\n",
    "def plot_convergence_order(ax, x, y):\n",
    "    xl,yl = linear_line_from_points(x, y, 1)\n",
    "    ax.plot(xl,yl,sty1,lw=lw, label='O(h$^1$)')\n",
    "    xl,yl = linear_line_from_points(x, y, 2)\n",
    "    ax.plot(xl,yl,sty2,lw=lw, label='O(h$^2$)')\n",
    "    xl,yl = linear_line_from_points(x, y, 3)\n",
    "    ax.plot(xl,yl,sty3,lw=lw, label='O(h$^3$)')"
   ]
  },
  {
   "cell_type": "markdown",
   "id": "fa80958b",
   "metadata": {},
   "source": [
    "##### Plot the convergence of the solver (fig 3e)"
   ]
  },
  {
   "cell_type": "code",
   "execution_count": null,
   "id": "e813bc88-88b1-41b1-8c01-8b766ff2e87f",
   "metadata": {},
   "outputs": [],
   "source": [
    "\n",
    "f, ax = plt.subplots(1, 1,  sharey=True, sharex=False, figsize=(5, 4))\n",
    "\n",
    "continuous = False\n",
    "\n",
    "for file in sorted(glob.glob(f'{outputPath}Diffusion_conv_test_HP_unstructuredSimplex_deg=*_continuous=True.txt')):\n",
    "    data = pd.read_csv(file).sort_values(by='cell size')\n",
    "    deg = data['Tdegree'].iloc[0]\n",
    "    ax.plot(np.log10(data['cell size']), np.log10(data['L2_norm']), label=f'u$_d$={deg}', ls=\"--\")\n",
    "\n",
    "plt.grid()\n",
    "\n",
    "plot_convergence_order(ax = ax, x = np.array([-1.3, -3]), y=np.array([-1, -5]) )\n",
    "\n",
    "\n",
    "ax.set_ylabel('log$_{10}$(||e||)')\n",
    "\n",
    "ax.set_xlabel('log$_{10}$(h)')\n",
    "\n",
    "plt.legend(ncols=2)\n",
    "\n",
    "plt.savefig(f'{outputPath}Diff_conv_HP_nsteps_time=1e-4.pdf')"
   ]
  },
  {
   "cell_type": "markdown",
   "id": "c114fbc2-7f0f-47f8-8f0d-6d298f9d37e3",
   "metadata": {},
   "source": [
    "### Run isothermal & isotropic diffusion benchmark"
   ]
  },
  {
   "cell_type": "markdown",
   "id": "209e97e5",
   "metadata": {},
   "source": [
    "### Plots and profiles from figure 4 are generated in the output file"
   ]
  },
  {
   "cell_type": "markdown",
   "id": "44a00a18",
   "metadata": {},
   "source": [
    "options that can be set:\n",
    "- uw_csize for cell size\n",
    "- uw_degree for unknown degree\n",
    "- uw_duration for model duration in Myrs\n",
    "- uw_temp for temperature in C"
   ]
  },
  {
   "cell_type": "code",
   "execution_count": null,
   "id": "ed27de95",
   "metadata": {
    "scrolled": true
   },
   "outputs": [],
   "source": [
    "for temp in [750, 800, 850]:\n",
    "    os.system(f'python3 Ex_isotropic_isothermalDiffusion_zircon.py -uw_temp {temp}')"
   ]
  },
  {
   "cell_type": "markdown",
   "id": "333e7fbe-6987-4012-9f99-65c20fc76926",
   "metadata": {},
   "source": [
    "### Run decreasing temperature benchmark\n",
    "options that can be set:\n",
    "- uw_csize for cell size\n",
    "- uw_degree for unknown degree\n",
    "- uw_duration for model duration in Myrs\n",
    "- uw_Temp_start for initial temperature (in C)\n",
    "- uw_Temp_end for final temperature (in C)"
   ]
  },
  {
   "cell_type": "code",
   "execution_count": null,
   "id": "60ca327d",
   "metadata": {},
   "outputs": [],
   "source": [
    "\n",
    "\n",
    "os.system(f'python3 Ex_isotropic_decreaingT_Diffusion_zircon.py')"
   ]
  },
  {
   "cell_type": "markdown",
   "id": "533d31fc-350c-4ac7-85f1-4d2d3b76dda9",
   "metadata": {},
   "source": [
    "### Run isothermal, anisotropic benchmark\n",
    "options that can be set:\n",
    "- uw_csize for cell size\n",
    "- uw_degree for unknown degree\n",
    "- uw_duration for model duration in Myrs\n",
    "- uw_temp for temperature (in C)"
   ]
  },
  {
   "cell_type": "code",
   "execution_count": null,
   "id": "69595555-40dc-46f4-a97f-bb7275611a8f",
   "metadata": {},
   "outputs": [],
   "source": [
    "\n",
    "\n",
    "\n",
    "os.system(f'python3 Ex_anisotropic_isothermalDiffusion_zircon.py')"
   ]
  },
  {
   "cell_type": "code",
   "execution_count": null,
   "id": "d86f2080-9ce8-46a6-bebd-96fef6129c73",
   "metadata": {},
   "outputs": [],
   "source": []
  },
  {
   "cell_type": "code",
   "execution_count": null,
   "id": "47a7257a-1a9e-4936-bb8a-e7bd6471bd88",
   "metadata": {},
   "outputs": [],
   "source": []
  }
 ],
 "metadata": {
  "kernelspec": {
   "display_name": "Python 3 (ipykernel)",
   "language": "python",
   "name": "python3"
  },
  "language_info": {
   "codemirror_mode": {
    "name": "ipython",
    "version": 3
   },
   "file_extension": ".py",
   "mimetype": "text/x-python",
   "name": "python",
   "nbconvert_exporter": "python",
   "pygments_lexer": "ipython3",
   "version": "3.10.14"
  }
 },
 "nbformat": 4,
 "nbformat_minor": 5
}
